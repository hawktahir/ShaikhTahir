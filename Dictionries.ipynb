{
 "cells": [
  {
   "cell_type": "code",
   "execution_count": 3,
   "metadata": {
    "collapsed": false
   },
   "outputs": [
    {
     "name": "stdout",
     "output_type": "stream",
     "text": [
      "worng Password \n",
      " Please try Again !\n"
     ]
    }
   ],
   "source": [
    "passwords = ['12345','henrik','waller','lousy']\n",
    "name = 'HELSLO'\n",
    "if name in passwords:\n",
    "    print(\"The Password Found\")\n",
    "else:\n",
    "    print(\"worng Password \\n Please try Again !\")"
   ]
  },
  {
   "cell_type": "code",
   "execution_count": 8,
   "metadata": {
    "collapsed": false
   },
   "outputs": [
    {
     "name": "stdout",
     "output_type": "stream",
     "text": [
      "green\n",
      "5\n"
     ]
    }
   ],
   "source": [
    "alien_0 = {'color':'green', 'points' : '5'}\n",
    "print(alien_0['color'])\n",
    "print(alien_0['points'])"
   ]
  },
  {
   "cell_type": "code",
   "execution_count": 12,
   "metadata": {
    "collapsed": false
   },
   "outputs": [
    {
     "name": "stdout",
     "output_type": "stream",
     "text": [
      "You Just earned 5 Points\n"
     ]
    }
   ],
   "source": [
    "alien_0 = {'color':'green', 'points' : '5'}\n",
    "\n",
    "new_points = alien_0['points']\n",
    "print(\"You Just earned \" + str(new_points) + \" Points\")"
   ]
  },
  {
   "cell_type": "code",
   "execution_count": 18,
   "metadata": {
    "collapsed": false
   },
   "outputs": [
    {
     "name": "stdout",
     "output_type": "stream",
     "text": [
      "{'color': 'green', 'points': '5'}\n",
      "{'color': 'green', 'points': '5', 'x_position': 0, 'y_position': 25}\n",
      "0\n"
     ]
    }
   ],
   "source": [
    "alien_0 = {'color':'green', 'points' : '5'}\n",
    "print(alien_0)\n",
    "\n",
    "\n",
    "alien_0['x_position'] = 0\n",
    "alien_0['y_position'] = 25\n",
    "print(alien_0)\n",
    "\n",
    "new_var = alien_0['x_position']\n",
    "print(new_var)\n"
   ]
  },
  {
   "cell_type": "code",
   "execution_count": 2,
   "metadata": {
    "collapsed": false
   },
   "outputs": [
    {
     "name": "stdout",
     "output_type": "stream",
     "text": [
      "{'house': '50x50', 'room': '20X20'}\n"
     ]
    }
   ],
   "source": [
    "alien_1 = {'house' : '50x50' ,}\n",
    "\n",
    "alien_1['room'] = '20X20'\n",
    "print(alien_1)"
   ]
  },
  {
   "cell_type": "code",
   "execution_count": 7,
   "metadata": {
    "collapsed": false
   },
   "outputs": [
    {
     "name": "stdout",
     "output_type": "stream",
     "text": [
      "The Color Of Alien Is green Always\n",
      "{'color': 'green'}\n",
      "green\n",
      "the Alien Color Is yellow Always\n",
      "{'color': 'yellow'}\n",
      "yellow\n"
     ]
    }
   ],
   "source": [
    "alien_0 = {'color' : 'green'}\n",
    "print(\"The Color Of Alien Is \" + alien_0['color'] + \" Always\")\n",
    "\n",
    "print(alien_0)\n",
    "print(alien_0['color'])\n",
    "\n",
    "alien_0['color'] = 'yellow'\n",
    "print(\"the Alien Color Is \" + alien_0['color'] + \" Always\")\n",
    "\n",
    "print(alien_0)\n",
    "print(alien_0['color'])\n"
   ]
  },
  {
   "cell_type": "code",
   "execution_count": 12,
   "metadata": {
    "collapsed": false
   },
   "outputs": [
    {
     "name": "stdout",
     "output_type": "stream",
     "text": [
      "Orignal X position 0\n",
      "New x-Position : 3\n"
     ]
    }
   ],
   "source": [
    "#ALIEN MOVEMENT SPECIFICAtION\n",
    "\n",
    "\n",
    "\n",
    "alien_0 = {'x_position' : 0, 'y_position' : 25 , 'speed' : 'mediums' }\n",
    "print(\"Orignal X position \" + str(alien_0['x_position']))\n",
    "\n",
    "#Move The Alien To The Right \n",
    "#Determine how far to move the alien based on its current speed.\n",
    "if alien_0['speed'] == 'slow':\n",
    "    x_increment = 1\n",
    "elif alien_0['speed'] == 'medium':\n",
    "    x_increment = 2 \n",
    "else:\n",
    "    #This Must be a Fast Alien \n",
    "    x_increment = 3\n",
    "    \n",
    "#The new Position is the old position plus the increment \n",
    "\n",
    "alien_0['x_position'] = alien_0['x_position'] + x_increment\n",
    "\n",
    "print(\"New x-Position : \" + str(alien_0['x_position']))\n"
   ]
  },
  {
   "cell_type": "code",
   "execution_count": 25,
   "metadata": {
    "collapsed": false
   },
   "outputs": [
    {
     "name": "stdout",
     "output_type": "stream",
     "text": [
      "1\n"
     ]
    }
   ],
   "source": [
    "#CARAM GAME \n",
    "\n",
    "piece = {'yellow' : 1, 'red' : 1, 'white' : 5,'black' :10}\n",
    "pocket = 'red'\n",
    "if pocket == 'yellow':\n",
    "    print(piece['yellow'])\n",
    "elif pocket == 'red':\n",
    "    print(piece['red'])\n",
    "elif pocket == 'white':\n",
    "    print(piece['white'])\n",
    "elif pocket == 'black':\n",
    "    print(piece['black'])\n",
    "else:\n",
    "    print(\"\\n Shot Missed ! \\n Opponent Turn \")"
   ]
  },
  {
   "cell_type": "code",
   "execution_count": 28,
   "metadata": {
    "collapsed": false
   },
   "outputs": [
    {
     "name": "stdout",
     "output_type": "stream",
     "text": [
      "{'color': 'red', 'point': 5}\n",
      "{'color': 'red'}\n"
     ]
    }
   ],
   "source": [
    "alien_0 = {'color' : 'red' , 'point' : 5}\n",
    "\n",
    "print(alien_0)\n",
    "\n",
    "del alien_0['point']\n",
    "print(alien_0)"
   ]
  },
  {
   "cell_type": "code",
   "execution_count": 29,
   "metadata": {
    "collapsed": false
   },
   "outputs": [
    {
     "name": "stdout",
     "output_type": "stream",
     "text": [
      "Jen Favourite Langugae is Python !\n"
     ]
    }
   ],
   "source": [
    "favourite_languages = {'jen' : 'python',\n",
    "                      'sarah' : 'c',\n",
    "                      'ali' : 'ruby',\n",
    "                      'hell' : 'perl'}\n",
    "\n",
    "print(\"Jen Favourite Langugae is \" + favourite_languages['jen'].title() +  \" !\")"
   ]
  },
  {
   "cell_type": "code",
   "execution_count": 31,
   "metadata": {
    "collapsed": false
   },
   "outputs": [
    {
     "name": "stdout",
     "output_type": "stream",
     "text": [
      "Ally\n",
      "Johnson\n",
      "29\n"
     ]
    }
   ],
   "source": [
    "person = {'first_name' : 'Ally' , 'last_name' : 'Johnson' , 'age' : 29 }\n",
    "\n",
    "print(person['first_name'])\n",
    "print(person['last_name'])\n",
    "print(person['age'])"
   ]
  },
  {
   "cell_type": "code",
   "execution_count": 40,
   "metadata": {
    "collapsed": false
   },
   "outputs": [
    {
     "name": "stdout",
     "output_type": "stream",
     "text": [
      "The Age Of Ahmed is 5\n",
      "The Age Of Ali Is 6\n",
      "The Age of Aliyan is 8\n",
      "The Age of Hussain is 10\n",
      "The Age of Sameer is 922\n"
     ]
    }
   ],
   "source": [
    "men = {'ahmed' : 5, 'ali' : 6, 'aliyan' : 8, 'hussain' : 10 , 'sameer' : 922}\n",
    "print(\"The Age Of Ahmed is \" + str(men['ahmed']))\n",
    "print(\"The Age Of Ali Is \" + str(men['ali']))\n",
    "print(\"The Age of Aliyan is \" + str(men['aliyan']))\n",
    "print(\"The Age of Hussain is \" + str(men['hussain']))\n",
    "print(\"The Age of Sameer is \" + str(men['sameer']))\n",
    "\n"
   ]
  },
  {
   "cell_type": "code",
   "execution_count": 44,
   "metadata": {
    "collapsed": false
   },
   "outputs": [
    {
     "name": "stdout",
     "output_type": "stream",
     "text": [
      "If : Agar\n",
      "else : WARNA\n"
     ]
    }
   ],
   "source": [
    "words = {\"if\" : 'agar', 'else' : 'warna'}\n",
    "print(\"If : \" + str(words['if'].title()))\n",
    "print(\"else : \" + str(words['else'].upper()))"
   ]
  },
  {
   "cell_type": "code",
   "execution_count": 48,
   "metadata": {
    "collapsed": false
   },
   "outputs": [
    {
     "name": "stdout",
     "output_type": "stream",
     "text": [
      "Tahir will be Billionare Soon\n"
     ]
    }
   ],
   "source": [
    "tahir = 'rich'\n",
    "if tahir == 'poor':\n",
    "    print(\"Tahir will be rich ! Soon \")\n",
    "elif tahir == 'rich':\n",
    "    print(\"Tahir will be Billionare Soon\")"
   ]
  },
  {
   "cell_type": "code",
   "execution_count": 77,
   "metadata": {
    "collapsed": false
   },
   "outputs": [
    {
     "name": "stdout",
     "output_type": "stream",
     "text": [
      "The Password Is 31\n"
     ]
    }
   ],
   "source": [
    "logins = { 'username' : 'Admin' , 'password' : 11}\n",
    "\n",
    "if logins['username'] == 'tahir':\n",
    "    increment = 1\n",
    "elif logins['username'] == 'hawk':\n",
    "    increment=10\n",
    "elif logins['username'] == 'Admin':\n",
    "    increment = 20\n",
    "\n",
    "    #The main initialization !\n",
    "logins['password'] = logins['password'] + increment \n",
    "print(\"The Password Is \" + str(logins['password']))"
   ]
  },
  {
   "cell_type": "code",
   "execution_count": null,
   "metadata": {
    "collapsed": true
   },
   "outputs": [],
   "source": []
  },
  {
   "cell_type": "code",
   "execution_count": null,
   "metadata": {
    "collapsed": true
   },
   "outputs": [],
   "source": []
  },
  {
   "cell_type": "code",
   "execution_count": null,
   "metadata": {
    "collapsed": true
   },
   "outputs": [],
   "source": []
  }
 ],
 "metadata": {
  "anaconda-cloud": {},
  "kernelspec": {
   "display_name": "Python [conda root]",
   "language": "python",
   "name": "conda-root-py"
  },
  "language_info": {
   "codemirror_mode": {
    "name": "ipython",
    "version": 2
   },
   "file_extension": ".py",
   "mimetype": "text/x-python",
   "name": "python",
   "nbconvert_exporter": "python",
   "pygments_lexer": "ipython2",
   "version": "2.7.12"
  }
 },
 "nbformat": 4,
 "nbformat_minor": 1
}
