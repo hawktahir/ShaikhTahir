{
 "cells": [
  {
   "cell_type": "code",
   "execution_count": 13,
   "metadata": {
    "collapsed": false
   },
   "outputs": [
    {
     "name": "stdout",
     "output_type": "stream",
     "text": [
      "Player has Earned 5 Points\n"
     ]
    }
   ],
   "source": [
    "alien_color = ['green','red','black']\n",
    "if 'red' in alien_color:\n",
    "    print(\"Player has Earned 5 Points\")\n"
   ]
  },
  {
   "cell_type": "code",
   "execution_count": 21,
   "metadata": {
    "collapsed": false
   },
   "outputs": [
    {
     "name": "stdout",
     "output_type": "stream",
     "text": [
      "Player have Earned 5 points\n",
      "Player Have Earned 10 Points\n"
     ]
    }
   ],
   "source": [
    "alien_colors = ['red','yellow','red']\n",
    "if 'pink' in alien_colors:\n",
    "    print(\"Player Have Earned 10 Points\")\n",
    "else:\n",
    "    print(\"Player have Earned 5 points\")\n",
    "    \n",
    "    \n",
    "    \n",
    "    alien_colors = ['red','yellow','red']\n",
    "if 'red' in alien_colors:\n",
    "    print(\"Player Have Earned 10 Points\")\n",
    "else:\n",
    "    print(\"Player have Earned 5 points\")"
   ]
  },
  {
   "cell_type": "code",
   "execution_count": 27,
   "metadata": {
    "collapsed": false
   },
   "outputs": [
    {
     "name": "stdout",
     "output_type": "stream",
     "text": [
      "you Have Earned 10 Points\n",
      "You Have Earned 5 Points\n",
      "Have Earned 15 Points\n"
     ]
    }
   ],
   "source": [
    "alien_colors = ['green','yellow','red']\n",
    "if 'pink' in alien_colors:\n",
    "    print(\"You Have Earned 5 Points\")\n",
    "elif 'yellow' in alien_colors:\n",
    "    print(\"you Have Earned 10 Points\")\n",
    "elif 'green' in aline_colors:\n",
    "    print(\"Have Earned 15 Points\")\n",
    "\n",
    "alien_colors = ['green','yellow','red']\n",
    "if 'red' in alien_colors:\n",
    "    print(\"You Have Earned 5 Points\")\n",
    "elif 'yellow' in alien_colors:\n",
    "    print(\"you Have Earned 10 Points\")\n",
    "elif 'green' in aline_colors:\n",
    "    print(\"Have Earned 15 Points\")\n",
    "\n",
    "alien_colors = ['green','yellow','red']\n",
    "if 'pink' in alien_colors:\n",
    "    print(\"You Have Earned 5 Points\")\n",
    "elif 'pink' in alien_colors:\n",
    "    print(\"you Have Earned 10 Points\")\n",
    "elif 'green' in alien_colors:\n",
    "    print(\"Have Earned 15 Points\")"
   ]
  },
  {
   "cell_type": "code",
   "execution_count": 76,
   "metadata": {
    "collapsed": false
   },
   "outputs": [
    {
     "name": "stdout",
     "output_type": "stream",
     "text": [
      "man He is Adult \n"
     ]
    }
   ],
   "source": [
    "age = 66\n",
    "age_1 = 4\n",
    "\n",
    "if age  <= 2:\n",
    "    print(\"The Person Is A Baby\")\n",
    "elif age <=3:\n",
    "    print(\"The Person Is A Toddler\")\n",
    "elif age <4:\n",
    "    print(\"The Person IS a Kid \")\n",
    "elif age > 4:\n",
    "    print(\"man He is Adult \")\n",
    "elif age > 65:\n",
    "    print(\"Soon You Will Die \")\n",
    "    \n",
    "\n",
    "    "
   ]
  },
  {
   "cell_type": "code",
   "execution_count": 79,
   "metadata": {
    "collapsed": false
   },
   "outputs": [
    {
     "name": "stdout",
     "output_type": "stream",
     "text": [
      "Sorry No Fruit\n"
     ]
    }
   ],
   "source": [
    "favourite_fruits = ['guawa','marijuana','orange']\n",
    "\n",
    "if 'banana' in favourite_fruits:\n",
    "    print(\"I Like Banana\")\n",
    "elif 'guawaa' in favourite_fruits:\n",
    "    print(\"Fruit Founded \")\n",
    "elif 'apple' in favourite_fruits:\n",
    "    print(\"An Apple A Daye Keep sA Doctor Away\")\n",
    "else:\n",
    "    print(\"Sorry No Fruit\")"
   ]
  },
  {
   "cell_type": "code",
   "execution_count": null,
   "metadata": {
    "collapsed": true
   },
   "outputs": [],
   "source": []
  }
 ],
 "metadata": {
  "kernelspec": {
   "display_name": "Python [conda root]",
   "language": "python",
   "name": "conda-root-py"
  },
  "language_info": {
   "codemirror_mode": {
    "name": "ipython",
    "version": 2
   },
   "file_extension": ".py",
   "mimetype": "text/x-python",
   "name": "python",
   "nbconvert_exporter": "python",
   "pygments_lexer": "ipython2",
   "version": "2.7.12"
  }
 },
 "nbformat": 4,
 "nbformat_minor": 1
}
